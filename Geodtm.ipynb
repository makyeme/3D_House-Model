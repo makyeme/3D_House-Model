{
 "cells": [
  {
   "cell_type": "code",
   "execution_count": 2,
   "metadata": {},
   "outputs": [],
   "source": [
    "import os\n",
    "import numpy as np\n",
    "import matplotlib.pyplot as plt\n",
    "import seaborn as sns\n",
    "import rioxarray as rxr\n",
    "import earthpy as et\n",
    "import gdal"
   ]
  },
  {
   "cell_type": "code",
   "execution_count": 3,
   "metadata": {},
   "outputs": [],
   "source": [
    "path1 = 'C:/Users/makye/Downloads/geotiff/DSM/ExtractedDSM/DHMVIIDSMRAS1m_k01/GeoTIFF/DHMVIIDSMRAS1m_k01.tif'\n",
    "path2 = 'C:/Users/makye/Downloads/geotiff/DTM/DHMVIIDTMRAS1m_k01/GeoTIFF/DHMVIIDTMRAS1m_k01.tif'\n",
    "fnout = 'C:/Users/makye/Downloads/geotiff'"
   ]
  },
  {
   "cell_type": "code",
   "execution_count": 4,
   "metadata": {},
   "outputs": [
    {
     "data": {
      "text/plain": [
       "<matplotlib.image.AxesImage at 0x18c7ffe8130>"
      ]
     },
     "execution_count": 4,
     "metadata": {},
     "output_type": "execute_result"
    },
    {
     "data": {
      "image/png": "[encoded data removed]",
      "text/plain": [
       "<Figure size 432x288 with 1 Axes>"
      ]
     },
     "metadata": {
      "needs_background": "light"
     },
     "output_type": "display_data"
    }
   ],
   "source": [
    "# import \n",
    "dtm = gdal.Open(path2)\n",
    "gt = dtm.GetGeoTransform()\n",
    "proj = dtm.GetProjection()\n",
    "\n",
    "band = dtm.GetRasterBand(1)\n",
    "array = band.ReadAsArray()\n",
    "\n",
    "plt.figure()\n",
    "plt.imshow(array)"
   ]
  },
  {
   "cell_type": "code",
   "execution_count": null,
   "metadata": {},
   "outputs": [],
   "source": [
    "# Calculate canopy height model\n",
    "lidar_chm_xr = lidar_dsm_xr - lidar_dem_xr\n",
    "\n",
    "# Plot the data\n",
    "f, ax = plt.subplots(figsize=(10, 5))\n",
    "lidar_chm_xr.plot(cmap=\"Greens\")\n",
    "ax.set(title=\"Canopy Height Model for Lee Hill Road Pre-Flood\")\n",
    "ax.set_axis_off()\n",
    "plt.show()"
   ]
  },
  {
   "cell_type": "code",
   "execution_count": null,
   "metadata": {},
   "outputs": [],
   "source": [
    "print(\"Is the spatial extent the same?\",\n",
    "      dsm.gdal.bounds() == dtm.gdal.bounds())"
   ]
  }
 ],
 "metadata": {
  "kernelspec": {
   "display_name": "Python 3",
   "language": "python",
   "name": "python3"
  },
  "language_info": {
   "codemirror_mode": {
    "name": "ipython",
    "version": 3
   },
   "file_extension": ".py",
   "mimetype": "text/x-python",
   "name": "python",
   "nbconvert_exporter": "python",
   "pygments_lexer": "ipython3",
   "version": "3.8.5"
  }
 },
 "nbformat": 4,
 "nbformat_minor": 4
}
